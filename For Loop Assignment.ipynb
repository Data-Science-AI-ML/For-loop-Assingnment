{
 "cells": [
  {
   "cell_type": "markdown",
   "metadata": {
    "vscode": {
     "languageId": "plaintext"
    }
   },
   "source": [
    "# Basic Level:\n"
   ]
  },
  {
   "cell_type": "code",
   "execution_count": null,
   "metadata": {},
   "outputs": [],
   "source": [
    "# 1. Write a Python program to print the numbers from 1 to 10 using a `for` loop.\n",
    "\n",
    "# 2. Create a program that calculates the sum of all numbers in a list using a `for` loop.\n",
    "\n",
    "# 3. Write a program to print the characters of a string in reverse order using a `for` loop.\n",
    "\n",
    "# 4. Develop a program that finds the factorial of a given number using a `for` loop.\n",
    "\n",
    "# 5. Create a program to print the multiplication table of a given number using a `for` loop.\n",
    "\n",
    "# 6. Write a program that counts the number of even and odd numbers in a list using a `for` loop.\n",
    "\n",
    "# 7. Develop a program that prints the squares of numbers from 1 to 5 using a `for` loop.\n",
    "\n",
    "# 8. Create a program to find the length of a string without using the `len()` function.\n",
    "\n",
    "# 9. Write a program that calculates the average of a list of numbers using a `for` loop.\n",
    "\n",
    "# 10. Develop a program that prints the first `n` Fibonacci numbers using a `for` loop."
   ]
  },
  {
   "cell_type": "code",
   "execution_count": 1,
   "metadata": {},
   "outputs": [
    {
     "name": "stdout",
     "output_type": "stream",
     "text": [
      "1\n",
      "2\n",
      "3\n",
      "4\n",
      "5\n",
      "6\n",
      "7\n",
      "8\n",
      "9\n",
      "10\n"
     ]
    }
   ],
   "source": [
    "#1.Print numbers from 1 to 10\n",
    "for i in range(1, 11):\n",
    "    print(i)\n"
   ]
  },
  {
   "cell_type": "code",
   "execution_count": 2,
   "metadata": {},
   "outputs": [
    {
     "name": "stdout",
     "output_type": "stream",
     "text": [
      "15\n"
     ]
    }
   ],
   "source": [
    "# Calculate the sum of all numbers in a list\n",
    "numbers = [1, 2, 3, 4, 5]\n",
    "total = 0\n",
    "for num in numbers:\n",
    "    total += num\n",
    "print(total)\n"
   ]
  },
  {
   "cell_type": "code",
   "execution_count": 5,
   "metadata": {},
   "outputs": [
    {
     "name": "stdout",
     "output_type": "stream",
     "text": [
      "hsraH"
     ]
    }
   ],
   "source": [
    "#3. Print the characters of teh string in reverse order:\n",
    "text = 'Harsh'\n",
    "for char in reversed(text):\n",
    "    print(char, end=\"\") "
   ]
  },
  {
   "cell_type": "code",
   "execution_count": 6,
   "metadata": {},
   "outputs": [
    {
     "name": "stdout",
     "output_type": "stream",
     "text": [
      "120\n"
     ]
    }
   ],
   "source": [
    "#4. Find the factorial of the given number\n",
    "num = 5\n",
    "fact = 1\n",
    "for i in range(1, num+1):\n",
    "    fact *= i\n",
    "print(fact)"
   ]
  },
  {
   "cell_type": "code",
   "execution_count": 7,
   "metadata": {},
   "outputs": [
    {
     "name": "stdout",
     "output_type": "stream",
     "text": [
      "3 x 1 = 3\n",
      "3 x 2 = 6\n",
      "3 x 3 = 9\n",
      "3 x 4 = 12\n",
      "3 x 5 = 15\n",
      "3 x 6 = 18\n",
      "3 x 7 = 21\n",
      "3 x 8 = 24\n",
      "3 x 9 = 27\n",
      "3 x 10 = 30\n"
     ]
    }
   ],
   "source": [
    "#5. Print multiplication table pf a given number:\n",
    "num =3\n",
    "for i in range(1,11):\n",
    "    print(f\"{num} x {i} = {num *i}\")"
   ]
  },
  {
   "cell_type": "code",
   "execution_count": 8,
   "metadata": {},
   "outputs": [
    {
     "name": "stdout",
     "output_type": "stream",
     "text": [
      "4\n",
      "5\n"
     ]
    }
   ],
   "source": [
    "#6. Count even and odd numbers in a list:\n",
    "num =[1,2,3,4,5,6,7,8,9]\n",
    "even_count = sum(1 for i in num if i % 2 == 0)\n",
    "odd_count = len(num) - even_count\n",
    "print(even_count)\n",
    "print(odd_count)"
   ]
  },
  {
   "cell_type": "code",
   "execution_count": 9,
   "metadata": {},
   "outputs": [
    {
     "name": "stdout",
     "output_type": "stream",
     "text": [
      "1\n",
      "4\n",
      "9\n",
      "16\n",
      "25\n"
     ]
    }
   ],
   "source": [
    "#7. Print squares of numbers from 1 to 5\n",
    "for i in range(1,6):\n",
    "    print(i**2)"
   ]
  },
  {
   "cell_type": "code",
   "execution_count": 10,
   "metadata": {},
   "outputs": [
    {
     "name": "stdout",
     "output_type": "stream",
     "text": [
      "6\n"
     ]
    }
   ],
   "source": [
    "#8. Find length of a string without using len():\n",
    "text = 'Bankai'\n",
    "length = 0\n",
    "for char in text:\n",
    "    length += 1\n",
    "print(length) # Output: 6"
   ]
  },
  {
   "cell_type": "code",
   "execution_count": 11,
   "metadata": {},
   "outputs": [
    {
     "name": "stdout",
     "output_type": "stream",
     "text": [
      "3.0\n"
     ]
    }
   ],
   "source": [
    "#9. Calculate average of a list of numbers:\n",
    "\n",
    "n = [1,2,3,4,5]\n",
    "average = sum(n) / len(n)\n",
    "print(average)  "
   ]
  },
  {
   "cell_type": "code",
   "execution_count": 12,
   "metadata": {},
   "outputs": [
    {
     "name": "stdout",
     "output_type": "stream",
     "text": [
      "[0, 1, 1, 2, 3]\n"
     ]
    }
   ],
   "source": [
    "#10. Print first n Fibonacci numbers\n",
    "n = 5\n",
    "fib = [0, 1]\n",
    "for i in range(2,n):\n",
    "    fib.append(fib[i-1] + fib[i-2])\n",
    "print(fib[:n])"
   ]
  },
  {
   "cell_type": "markdown",
   "metadata": {},
   "source": [
    "# Intermediate Level:"
   ]
  },
  {
   "cell_type": "code",
   "execution_count": 13,
   "metadata": {},
   "outputs": [],
   "source": [
    "# 11. Write a program to check if a given list contains any duplicates using a `for` loop.\n",
    "\n",
    "# 12. Create a program that prints the prime numbers in a given range using a `for` loop.\n",
    "\n",
    "# 13. Develop a program that counts the number of vowels in a string using a `for` loop.\n",
    "\n",
    "# 14. Write a program to find the maximum element in a 2D list using a nested `for` loop.\n",
    "\n",
    "# 15. Create a program that removes all occurrences of a specific element from a list using a `for` loop.\n",
    "\n",
    "# 16. Develop a program that generates a multiplication table for numbers from 1 to 5 using a nested `for` loop.\n",
    "\n",
    "# 17. Write a program that converts a list of Fahrenheit temperatures to Celsius using a `for` loop.\n",
    "\n",
    "# 18. Create a program to print the common elements from two lists using a `for` loop.\n",
    "\n",
    "# 19. Develop a program that prints the pattern of right-angled triangles using a `for` loop. Use ‘*’ to draw the\n",
    "# pattern\n",
    "\n",
    "# 20. Write a program to find the greatest common divisor (GCD) of two numbers using a `for` loop"
   ]
  },
  {
   "cell_type": "code",
   "execution_count": 14,
   "metadata": {},
   "outputs": [
    {
     "name": "stdout",
     "output_type": "stream",
     "text": [
      "True\n"
     ]
    }
   ],
   "source": [
    "#11. Check if a list contains duplicates\n",
    "num = [1,2,3,3,4,5,5]\n",
    "print(len(num) != len(set(num))) # True"
   ]
  },
  {
   "cell_type": "code",
   "execution_count": 15,
   "metadata": {},
   "outputs": [
    {
     "name": "stdout",
     "output_type": "stream",
     "text": [
      "11\n",
      "13\n",
      "17\n",
      "19\n"
     ]
    }
   ],
   "source": [
    "#12. print prime numbers in a range\n",
    "for num in range(10,20):\n",
    "    if all(num %  i !=0 for i in range(2, int(num **0.5)+1)):\n",
    "        print(num)"
   ]
  },
  {
   "cell_type": "code",
   "execution_count": 16,
   "metadata": {},
   "outputs": [
    {
     "name": "stdout",
     "output_type": "stream",
     "text": [
      "5\n"
     ]
    }
   ],
   "source": [
    "#13. count vowels in a string\n",
    "text = \"Senbon Zakura\"\n",
    "vowels = \"aeiouAEIOU\"\n",
    "count = sum(1 for char in text if char in vowels)\n",
    "print(count) "
   ]
  },
  {
   "cell_type": "code",
   "execution_count": 17,
   "metadata": {},
   "outputs": [
    {
     "name": "stdout",
     "output_type": "stream",
     "text": [
      "9\n"
     ]
    }
   ],
   "source": [
    "#14. Find Maimum Elements in  a 2d list\n",
    "matrix = [[1,2,3],[4,5,6],[7,8,9]]\n",
    "max_element = max(max(row) for row in matrix)\n",
    "print(max_element)"
   ]
  },
  {
   "cell_type": "code",
   "execution_count": 20,
   "metadata": {},
   "outputs": [
    {
     "name": "stdout",
     "output_type": "stream",
     "text": [
      "[1, 3, 4]\n"
     ]
    }
   ],
   "source": [
    "#15. Remove all occurrences of an element from a list\n",
    "number = [1,2,3,2,4]\n",
    "target = 2\n",
    "print([num for num in number if num != target])"
   ]
  },
  {
   "cell_type": "code",
   "execution_count": 22,
   "metadata": {},
   "outputs": [
    {
     "name": "stdout",
     "output_type": "stream",
     "text": [
      "1 * 1 = 1\n",
      "1 * 2 = 2\n",
      "1 * 3 = 3\n",
      "1 * 4 = 4\n",
      "1 * 5 = 5\n",
      "1 * 6 = 6\n",
      "1 * 7 = 7\n",
      "1 * 8 = 8\n",
      "1 * 9 = 9\n",
      "1 * 10 = 10\n",
      "2 * 1 = 2\n",
      "2 * 2 = 4\n",
      "2 * 3 = 6\n",
      "2 * 4 = 8\n",
      "2 * 5 = 10\n",
      "2 * 6 = 12\n",
      "2 * 7 = 14\n",
      "2 * 8 = 16\n",
      "2 * 9 = 18\n",
      "2 * 10 = 20\n",
      "3 * 1 = 3\n",
      "3 * 2 = 6\n",
      "3 * 3 = 9\n",
      "3 * 4 = 12\n",
      "3 * 5 = 15\n",
      "3 * 6 = 18\n",
      "3 * 7 = 21\n",
      "3 * 8 = 24\n",
      "3 * 9 = 27\n",
      "3 * 10 = 30\n",
      "4 * 1 = 4\n",
      "4 * 2 = 8\n",
      "4 * 3 = 12\n",
      "4 * 4 = 16\n",
      "4 * 5 = 20\n",
      "4 * 6 = 24\n",
      "4 * 7 = 28\n",
      "4 * 8 = 32\n",
      "4 * 9 = 36\n",
      "4 * 10 = 40\n",
      "5 * 1 = 5\n",
      "5 * 2 = 10\n",
      "5 * 3 = 15\n",
      "5 * 4 = 20\n",
      "5 * 5 = 25\n",
      "5 * 6 = 30\n",
      "5 * 7 = 35\n",
      "5 * 8 = 40\n",
      "5 * 9 = 45\n",
      "5 * 10 = 50\n"
     ]
    }
   ],
   "source": [
    "#16. generate multiplicaton tables from 1 to 5\n",
    "for i in range(1,6):\n",
    "    for j in range(1,11):\n",
    "        print(f\"{i} * {j} = {i*j}\")"
   ]
  },
  {
   "cell_type": "code",
   "execution_count": 26,
   "metadata": {},
   "outputs": [
    {
     "name": "stdout",
     "output_type": "stream",
     "text": [
      "[2.2222222222222223, 20.0, 40.0]\n"
     ]
    }
   ],
   "source": [
    "#17. Convert fahernite into clesius\n",
    "fahrenheit = [36,68,104]\n",
    "print([(temp - 32)*5/9 for temp in fahrenheit])"
   ]
  },
  {
   "cell_type": "code",
   "execution_count": 27,
   "metadata": {},
   "outputs": [
    {
     "name": "stdout",
     "output_type": "stream",
     "text": [
      "[2, 3]\n"
     ]
    }
   ],
   "source": [
    "#18. Print common elements from 2 lists\n",
    "list1 = [1,2,3]\n",
    "list2 = [2,3,4]\n",
    "print([item for item in list1 if item in list2])"
   ]
  },
  {
   "cell_type": "code",
   "execution_count": 28,
   "metadata": {},
   "outputs": [
    {
     "name": "stdout",
     "output_type": "stream",
     "text": [
      "*\n",
      "**\n",
      "***\n",
      "****\n",
      "*****\n"
     ]
    }
   ],
   "source": [
    "#19. Print right-angled triangle pattern\n",
    "for i in range(1,6):\n",
    "    print('*' * i)"
   ]
  },
  {
   "cell_type": "code",
   "execution_count": 33,
   "metadata": {},
   "outputs": [
    {
     "name": "stdout",
     "output_type": "stream",
     "text": [
      "4\n"
     ]
    }
   ],
   "source": [
    "#20. find GCD of two numbers\n",
    "a,b = 48,28\n",
    "for i in range(min(a,b),0,-1):\n",
    "    if a%i == 0 and b%i == 0:\n",
    "        gcd = i\n",
    "        break\n",
    "print(gcd)"
   ]
  },
  {
   "cell_type": "markdown",
   "metadata": {},
   "source": [
    "# Advanced Level:"
   ]
  },
  {
   "cell_type": "code",
   "execution_count": 34,
   "metadata": {},
   "outputs": [],
   "source": [
    "# 21. Create a program that calculates the sum of the digits of numbers in a list using a list comprehension.\n",
    "\n",
    "# 22. Write a program to find the prime factors of a given number using a `for` loop and list comprehension.\n",
    "\n",
    "# 23. Develop a program that extracts unique elements from a list and stores them in a new list using a list\n",
    "# comprehension.\n",
    "\n",
    "# 24. Create a program that generates a list of all palindromic numbers up to a specified limit using a list\n",
    "# comprehension.\n",
    "\n",
    "# 25. Write a program to flatten a nested list using list comprehension.\n",
    "\n",
    "# 26. Develop a program that computes the sum of even and odd numbers in a list separately using list\n",
    "# comprehension.\n",
    "\n",
    "# 27. Create a program that generates a list of squares of odd numbers between 1 and 10 using list\n",
    "# comprehension.\n",
    "\n",
    "# 28. Write a program that combines two lists into a dictionary using list comprehension.\n",
    "\n",
    "# 29. Develop a program that extracts the vowels from a string and stores them in a list using list comprehension.\n",
    "\n",
    "# 30. Create a program that removes all non-numeric characters from a list of strings using list comprehension."
   ]
  },
  {
   "cell_type": "code",
   "execution_count": 35,
   "metadata": {},
   "outputs": [
    {
     "name": "stdout",
     "output_type": "stream",
     "text": [
      "[6, 10]\n"
     ]
    }
   ],
   "source": [
    "#21. Sum of digits in a list using list comprehension\n",
    "num = [123,334]\n",
    "sum_of_digits = [sum(int(digit) for digit in str(n)) for n in num]\n",
    "print(sum_of_digits)\n",
    "                 "
   ]
  },
  {
   "cell_type": "code",
   "execution_count": 36,
   "metadata": {},
   "outputs": [
    {
     "name": "stdout",
     "output_type": "stream",
     "text": [
      "[2, 7]\n"
     ]
    }
   ],
   "source": [
    "#22. Find prime factors of given numbers\n",
    "n = 28\n",
    "factors = [i for i in range(2,n+1) if n%i ==0 and all(i%j !=0 for j in range(2,int(i**0.5)+1))]\n",
    "print(factors)"
   ]
  },
  {
   "cell_type": "code",
   "execution_count": 37,
   "metadata": {},
   "outputs": [
    {
     "name": "stdout",
     "output_type": "stream",
     "text": [
      "[1, 2, 3]\n"
     ]
    }
   ],
   "source": [
    "#23. Extract unique elements from a list\n",
    "num = [1,2,3,3]\n",
    "unique_elements = list(set(num))\n",
    "print(unique_elements)  # Output: [1, 2, 3]"
   ]
  },
  {
   "cell_type": "code",
   "execution_count": 39,
   "metadata": {},
   "outputs": [
    {
     "name": "stdout",
     "output_type": "stream",
     "text": [
      "[0, 1, 2, 3, 4, 5, 6, 7, 8, 9, 11, 22, 33, 44, 55, 66, 77, 88, 99]\n"
     ]
    }
   ],
   "source": [
    "#24. Generate list of palindromic numbers up to a limit:\n",
    "limit = 100\n",
    "palindromes = [i for i in range(limit) if str(i) == str(i)[::-1]]\n",
    "print(palindromes)\n"
   ]
  },
  {
   "cell_type": "code",
   "execution_count": 41,
   "metadata": {},
   "outputs": [
    {
     "name": "stdout",
     "output_type": "stream",
     "text": [
      "[1, 2, 3, 4]\n"
     ]
    }
   ],
   "source": [
    "#25. Flatten a nested list\n",
    "nested = [[1,2],[3,4]]\n",
    "flattened = [item for sublist in nested for item in sublist]\n",
    "print(flattened)  "
   ]
  },
  {
   "cell_type": "code",
   "execution_count": 42,
   "metadata": {},
   "outputs": [
    {
     "name": "stdout",
     "output_type": "stream",
     "text": [
      "Even sum: 6 Odd sum: 9\n"
     ]
    }
   ],
   "source": [
    "#26. Compute sum of even and odd numbers separately using list comprehension:\n",
    "numbers = [1, 2, 3, 4, 5]\n",
    "even_sum = sum([num for num in numbers if num % 2 == 0])\n",
    "odd_sum = sum([num for num in numbers if num % 2 != 0])\n",
    "print(\"Even sum:\", even_sum, \"Odd sum:\", odd_sum)\n"
   ]
  },
  {
   "cell_type": "code",
   "execution_count": 43,
   "metadata": {},
   "outputs": [
    {
     "name": "stdout",
     "output_type": "stream",
     "text": [
      "[1, 9, 25, 49, 81]\n"
     ]
    }
   ],
   "source": [
    "#27. Generate squares of odd numbers between 1 and 10:\n",
    "squares = [num ** 2 for num in range(1, 11) if num % 2 != 0]\n",
    "print(squares)\n"
   ]
  },
  {
   "cell_type": "code",
   "execution_count": 45,
   "metadata": {},
   "outputs": [
    {
     "name": "stdout",
     "output_type": "stream",
     "text": [
      "{'a': 1, 'b': 2, 'c': 3}\n"
     ]
    }
   ],
   "source": [
    "#28. Combine two lists into a dictionary using list comprehension:\n",
    "keys = ['a', 'b', 'c']\n",
    "values = [1, 2, 3]\n",
    "dictionary = {keys[i]: values[i] for i in range(len(keys))}\n",
    "print(dictionary)\n"
   ]
  },
  {
   "cell_type": "code",
   "execution_count": 46,
   "metadata": {},
   "outputs": [
    {
     "name": "stdout",
     "output_type": "stream",
     "text": [
      "['e', 'o', 'o']\n"
     ]
    }
   ],
   "source": [
    "#29. Extract vowels from a string into a list:\n",
    "text = \"hello world\"\n",
    "vowels = [char for char in text if char in 'aeiou']\n",
    "print(vowels)\n"
   ]
  },
  {
   "cell_type": "code",
   "execution_count": 47,
   "metadata": {},
   "outputs": [
    {
     "name": "stdout",
     "output_type": "stream",
     "text": [
      "['123', '', '456']\n"
     ]
    }
   ],
   "source": [
    "#30. Remove all non-numeric characters from a list of strings:\n",
    "items = [\"123\", \"abc\", \"456def\"]\n",
    "numeric_only = [''.join(filter(str.isdigit, item)) for item in items]\n",
    "print(numeric_only)\n"
   ]
  },
  {
   "cell_type": "markdown",
   "metadata": {},
   "source": [
    "# Challenge Level:\n",
    "\n"
   ]
  },
  {
   "cell_type": "code",
   "execution_count": 48,
   "metadata": {},
   "outputs": [
    {
     "name": "stdout",
     "output_type": "stream",
     "text": [
      "[2, 3, 5, 7, 11, 13, 17, 19, 23, 29]\n"
     ]
    }
   ],
   "source": [
    "# 31.Generate list of prime numbers using the Sieve of Eratosthenes:\n",
    "limit = 30\n",
    "sieve = [True] * (limit + 1)\n",
    "sieve[0] = sieve[1] = False\n",
    "for i in range(2, int(limit ** 0.5) + 1):\n",
    "    if sieve[i]:\n",
    "        for j in range(i * i, limit + 1, i):\n",
    "            sieve[j] = False\n",
    "primes = [i for i, is_prime in enumerate(sieve) if is_prime]\n",
    "print(primes)\n"
   ]
  },
  {
   "cell_type": "code",
   "execution_count": 49,
   "metadata": {},
   "outputs": [
    {
     "name": "stdout",
     "output_type": "stream",
     "text": [
      "[(3, 4, 5), (5, 12, 13), (6, 8, 10), (8, 15, 17), (9, 12, 15), (12, 16, 20)]\n"
     ]
    }
   ],
   "source": [
    "# 32.Generate list of all Pythagorean triplets up to a specified limit:\n",
    "limit = 20\n",
    "triplets = [(a, b, int((a**2 + b**2)**0.5)) \n",
    "            for a in range(1, limit) for b in range(a, limit)\n",
    "            if (a**2 + b**2)**0.5 % 1 == 0 and (a**2 + b**2)**0.5 <= limit]\n",
    "print(triplets)\n"
   ]
  },
  {
   "cell_type": "code",
   "execution_count": 50,
   "metadata": {},
   "outputs": [
    {
     "name": "stdout",
     "output_type": "stream",
     "text": [
      "[(1, 'a'), (1, 'b'), (2, 'a'), (2, 'b')]\n"
     ]
    }
   ],
   "source": [
    "# 33.Generate all possible combinations of two lists:\n",
    "\n",
    "list1 = [1, 2]\n",
    "list2 = ['a', 'b']\n",
    "combinations = [(x, y) for x in list1 for y in list2]\n",
    "print(combinations)\n"
   ]
  },
  {
   "cell_type": "code",
   "execution_count": 51,
   "metadata": {},
   "outputs": [
    {
     "name": "stdout",
     "output_type": "stream",
     "text": [
      "Mean: 2 Median: 2.0 Mode: 2\n"
     ]
    }
   ],
   "source": [
    "#34.Calculate mean, median, and mode of a list:\n",
    "from statistics import mean, median, mode\n",
    "numbers = [1, 2, 2, 3]\n",
    "mean_val = mean(numbers)\n",
    "median_val = median(numbers)\n",
    "mode_val = mode(numbers)\n",
    "print(\"Mean:\", mean_val, \"Median:\", median_val, \"Mode:\", mode_val)\n"
   ]
  },
  {
   "cell_type": "code",
   "execution_count": 52,
   "metadata": {},
   "outputs": [
    {
     "name": "stdout",
     "output_type": "stream",
     "text": [
      "[[1], [1, 1], [1, 2, 1], [1, 3, 3, 1], [1, 4, 6, 4, 1]]\n"
     ]
    }
   ],
   "source": [
    "#35.Generate Pascal's triangle up to specified rows:\n",
    "rows = 5\n",
    "pascal = [[1]]\n",
    "for i in range(1, rows):\n",
    "    row = [1] + [pascal[i-1][j] + pascal[i-1][j+1] for j in range(len(pascal[i-1]) - 1)] + [1]\n",
    "    pascal.append(row)\n",
    "print(pascal)\n"
   ]
  },
  {
   "cell_type": "code",
   "execution_count": 53,
   "metadata": {},
   "outputs": [
    {
     "name": "stdout",
     "output_type": "stream",
     "text": [
      "[1, 2, 6, 6, 3]\n"
     ]
    }
   ],
   "source": [
    "#36.Calculate sum of digits of factorials from 1 to 5:\n",
    "import math\n",
    "sums = [sum(int(d) for d in str(math.factorial(i))) for i in range(1, 6)]\n",
    "print(sums)\n"
   ]
  },
  {
   "cell_type": "code",
   "execution_count": 54,
   "metadata": {},
   "outputs": [
    {
     "name": "stdout",
     "output_type": "stream",
     "text": [
      "quick\n"
     ]
    }
   ],
   "source": [
    "#37.Find the longest word in a sentence:\n",
    "sentence = \"The quick brown fox\"\n",
    "longest_word = max(sentence.split(), key=len)\n",
    "print(longest_word)\n"
   ]
  },
  {
   "cell_type": "code",
   "execution_count": 55,
   "metadata": {},
   "outputs": [
    {
     "name": "stdout",
     "output_type": "stream",
     "text": [
      "['beautiful']\n"
     ]
    }
   ],
   "source": [
    "# 38.Filter strings with more than three vowels:\n",
    "words = [\"hello\", \"beautiful\", \"world\"]\n",
    "filtered = [word for word in words if sum(1 for char in word if char in 'aeiou') > 3]\n",
    "print(filtered)\n"
   ]
  },
  {
   "cell_type": "code",
   "execution_count": 56,
   "metadata": {},
   "outputs": [
    {
     "name": "stdout",
     "output_type": "stream",
     "text": [
      "13501\n"
     ]
    }
   ],
   "source": [
    "# 39.Calculate sum of digits from 1 to 1000:\n",
    "digit_sum = sum(sum(int(digit) for digit in str(num)) for num in range(1, 1001))\n",
    "print(digit_sum)\n"
   ]
  },
  {
   "cell_type": "code",
   "execution_count": 57,
   "metadata": {},
   "outputs": [
    {
     "name": "stdout",
     "output_type": "stream",
     "text": [
      "[2, 3, 5, 7, 11, 101, 131, 151, 181, 191, 313, 353, 373, 383, 727, 757, 787, 797, 919, 929]\n"
     ]
    }
   ],
   "source": [
    "#40.Generate list of prime palindromic numbers:\n",
    "def is_prime(num):\n",
    "    return num > 1 and all(num % i != 0 for i in range(2, int(num ** 0.5) + 1))\n",
    "limit = 1000\n",
    "prime_palindromes = [num for num in range(1, limit) if str(num) == str(num)[::-1] and is_prime(num)]\n",
    "print(prime_palindromes)\n"
   ]
  },
  {
   "cell_type": "code",
   "execution_count": null,
   "metadata": {},
   "outputs": [],
   "source": []
  }
 ],
 "metadata": {
  "kernelspec": {
   "display_name": "base",
   "language": "python",
   "name": "python3"
  },
  "language_info": {
   "codemirror_mode": {
    "name": "ipython",
    "version": 3
   },
   "file_extension": ".py",
   "mimetype": "text/x-python",
   "name": "python",
   "nbconvert_exporter": "python",
   "pygments_lexer": "ipython3",
   "version": "3.11.5"
  }
 },
 "nbformat": 4,
 "nbformat_minor": 2
}
